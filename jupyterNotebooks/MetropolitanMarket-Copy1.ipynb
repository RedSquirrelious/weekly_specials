{
 "cells": [
  {
   "cell_type": "code",
   "execution_count": 1,
   "metadata": {
    "collapsed": true
   },
   "outputs": [],
   "source": [
    "from bs4 import BeautifulSoup\n",
    "import os\n",
    "import pickle\n",
    "from selenium import webdriver"
   ]
  },
  {
   "cell_type": "code",
   "execution_count": 2,
   "metadata": {
    "collapsed": true
   },
   "outputs": [],
   "source": [
    "url = \"http://metropolitan-market.com/specials/search.php?c%5B%5D=all\""
   ]
  },
  {
   "cell_type": "code",
   "execution_count": 3,
   "metadata": {
    "collapsed": true
   },
   "outputs": [],
   "source": [
    "driver_file = os.environ.get(\"SPECIALS_DRIVER\")"
   ]
  },
  {
   "cell_type": "code",
   "execution_count": 4,
   "metadata": {
    "collapsed": true
   },
   "outputs": [],
   "source": [
    "file = \"testCookies.pkl\""
   ]
  },
  {
   "cell_type": "code",
   "execution_count": 5,
   "metadata": {
    "collapsed": true
   },
   "outputs": [],
   "source": [
    "soup_format = 'lxml'"
   ]
  },
  {
   "cell_type": "code",
   "execution_count": 6,
   "metadata": {
    "collapsed": true
   },
   "outputs": [],
   "source": [
    "def make_browser(driver_file):\n",
    "    browser = webdriver.Chrome(driver_file)\n",
    "    return browser"
   ]
  },
  {
   "cell_type": "code",
   "execution_count": 7,
   "metadata": {
    "collapsed": true
   },
   "outputs": [],
   "source": [
    "def store_cookies(browser, url, file):\n",
    "    browser.get(url)\n",
    "    pickle.dump( browser.get_cookies() , open(file,\"wb\"))"
   ]
  },
  {
   "cell_type": "code",
   "execution_count": 8,
   "metadata": {
    "collapsed": true
   },
   "outputs": [],
   "source": [
    "def get_cookies(file):\n",
    "    cookies = pickle.load(open(file, \"rb\"))\n",
    "    return cookies"
   ]
  },
  {
   "cell_type": "code",
   "execution_count": 9,
   "metadata": {
    "collapsed": true
   },
   "outputs": [],
   "source": [
    "def access_site_innerHTML(browser, url, cookies):\n",
    "    for cookie in cookies:\n",
    "        browser.add_cookie(cookie)\n",
    "    browser.get(url)\n",
    "    innerHTML = browser.execute_script(\"return document.body.innerHTML\")\n",
    "    return innerHTML"
   ]
  },
  {
   "cell_type": "code",
   "execution_count": 10,
   "metadata": {
    "collapsed": true
   },
   "outputs": [],
   "source": [
    "def make_soup(innerHTML, soup_format):\n",
    "    bs = BeautifulSoup(innerHTML, soup_format)\n",
    "    return bs"
   ]
  },
  {
   "cell_type": "code",
   "execution_count": 11,
   "metadata": {
    "collapsed": true
   },
   "outputs": [],
   "source": [
    "def get_specials(bso):\n",
    "    specials = bso.find(\"div\", {\"id\": \"specialsContent\"})\n",
    "    return specials"
   ]
  },
  {
   "cell_type": "code",
   "execution_count": 12,
   "metadata": {
    "collapsed": true
   },
   "outputs": [],
   "source": [
    "def get_items(specials):\n",
    "    items = specials.findAll(\"div\", {\"class\": \"item_view\"})\n",
    "    return items"
   ]
  },
  {
   "cell_type": "code",
   "execution_count": 13,
   "metadata": {},
   "outputs": [],
   "source": [
    "def parse_specials_to_dict(items):\n",
    "    ws = {}\n",
    "    l = 'local'\n",
    "    o = 'organic'\n",
    "    for item in items:\n",
    "        id = item.get(\"id\")\n",
    "        price = item.find(\"strong\", {\"class\": \"price\"})\n",
    "        sm = item.findAll(\"small\")\n",
    "        brand = sm[0].text\n",
    "    #     description = sm[1].text\n",
    "        deets = item.find(\"h4\")\n",
    "        name = ''.join(deets.find('br').next_siblings).strip()\n",
    "        ws[id] = {}\n",
    "        ws[id]['name'] = name\n",
    "        ws[id]['price'] = price.text\n",
    "    #     ws[id]['description'] = description\n",
    "        if l in brand or l.upper() in brand:\n",
    "            ws[id]['local'] = True\n",
    "            ws[id]['brand'] = brand[6:]\n",
    "        else:\n",
    "            ws[id]['local'] = False\n",
    "            ws[id]['brand'] = brand\n",
    "        if o in brand or o.upper() in brand or o in name or o.upper() in name or o in name.lower():\n",
    "            ws[id]['organic'] = True\n",
    "        else:\n",
    "            ws[id]['organic'] = False\n",
    "    return ws"
   ]
  },
  {
   "cell_type": "code",
   "execution_count": 14,
   "metadata": {
    "collapsed": true
   },
   "outputs": [],
   "source": [
    "b = make_browser(driver_file)"
   ]
  },
  {
   "cell_type": "code",
   "execution_count": 15,
   "metadata": {
    "collapsed": true
   },
   "outputs": [],
   "source": [
    "store_cookies(b, url, file)"
   ]
  },
  {
   "cell_type": "code",
   "execution_count": 16,
   "metadata": {
    "collapsed": true
   },
   "outputs": [],
   "source": [
    "cookies = get_cookies(file)"
   ]
  },
  {
   "cell_type": "code",
   "execution_count": 17,
   "metadata": {},
   "outputs": [],
   "source": [
    "innerHTML = access_site_innerHTML(b, url, cookies)"
   ]
  },
  {
   "cell_type": "code",
   "execution_count": 18,
   "metadata": {},
   "outputs": [],
   "source": [
    "bso = make_soup(innerHTML, soup_format)"
   ]
  },
  {
   "cell_type": "code",
   "execution_count": 19,
   "metadata": {
    "collapsed": true
   },
   "outputs": [],
   "source": [
    "specials = get_specials(bso)"
   ]
  },
  {
   "cell_type": "code",
   "execution_count": 20,
   "metadata": {
    "collapsed": true
   },
   "outputs": [],
   "source": [
    "items = get_items(specials)"
   ]
  },
  {
   "cell_type": "code",
   "execution_count": 21,
   "metadata": {
    "collapsed": true
   },
   "outputs": [],
   "source": [
    "ws = parse_specials_to_dict(items)"
   ]
  },
  {
   "cell_type": "code",
   "execution_count": 22,
   "metadata": {},
   "outputs": [
    {
     "name": "stdout",
     "output_type": "stream",
     "text": [
      "{'A1': {'name': 'Extra Lean Ground Beef', 'price': '$4.99 lb.', 'local': True, 'brand': 'Naturally Raised', 'organic': False}, 'A2': {'name': 'Rioja Crianza', 'price': '$11.99', 'local': False, 'brand': 'Vina Hermenia', 'organic': False}, 'A3': {'name': 'Free Range Chicken Wings', 'price': '$1.99 lb.', 'local': False, 'brand': 'Naturally Raised', 'organic': False}, 'A4': {'name': 'Beef Top Sirloin Steak', 'price': '$8.99', 'local': True, 'brand': 'Naturally Raised', 'organic': False}, 'A5': {'name': 'True Cod Fillets', 'price': '$6.99 lb.', 'local': False, 'brand': 'Wild Caught', 'organic': False}, 'A6': {'name': 'Lobster Tail', 'price': '$10.99', 'local': False, 'brand': 'Wild, Maine', 'organic': False}, 'A7': {'name': 'Fuji Apples', 'price': '$1.99 lb.', 'local': True, 'brand': 'ORGANIC', 'organic': True}, 'A8': {'name': 'Strawberries', 'price': '$3.99', 'local': False, 'brand': 'Fresh', 'organic': False}, 'A9': {'name': 'Extra Mature Scottish Cheddar', 'price': '$5.99', 'local': False, 'brand': 'Mull Of Kintyre', 'organic': False}, 'A10': {'name': 'Chocolate Bar', 'price': '$2.49', 'local': True, 'brand': 'Theo', 'organic': False}, 'A11': {'name': 'Granola', 'price': '$3.99', 'local': False, 'brand': 'Kind', 'organic': False}, 'A12': {'name': 'Potato Chips', 'price': '$1.99', 'local': True, 'brand': 'Kettle', 'organic': False}, 'A13': {'name': 'Pumpkin Pecan Bakewell Tart', 'price': '$4.99', 'local': False, 'brand': 'Metropolitan Market', 'organic': False}, 'A14': {'name': 'Ground or Whole Bean Coffee', 'price': '$7.99', 'local': True, 'brand': 'Starbucks', 'organic': False}, 'A15': {'name': 'Probiotic Beverages', 'price': '2/$5', 'local': False, 'brand': 'Kevita', 'organic': False}, 'A16': {'name': 'Organic Italian Soda', 'price': '$2.99', 'local': False, 'brand': 'Metropolitan Market', 'organic': True}, 'A17': {'name': 'One Pot Dutch Oven', 'price': '$79.99*', 'local': False, 'brand': 'Emile Henry', 'organic': False}, 'A18': {'name': 'Wok Set', 'price': '$23.99*', 'local': False, 'brand': 'Typhoon', 'organic': False}, 'B1': {'name': 'Boneless, Skinless Chicken Breasts Air-Chilled', 'price': '$6.99 lb.', 'local': False, 'brand': 'ORGANIC Metropolitan Market', 'organic': True}, 'B2': {'name': 'Fresh Sausage', 'price': '$5.79', 'local': True, 'brand': \"Isernio's\", 'organic': False}, 'B3': {'name': 'Smoked Sausage', 'price': '$6.49', 'local': True, 'brand': 'Banchero Bros', 'organic': False}, 'B4': {'name': 'Smoked Sausage', 'price': '$5.49', 'local': True, 'brand': \"Hempler's\", 'organic': False}, 'B5': {'name': 'Natural Choice Lunch Meat', 'price': '$3.99', 'local': False, 'brand': 'Hormel', 'organic': False}, 'B6': {'name': 'Bratwurst or Sausage', 'price': '$3.79', 'local': False, 'brand': 'Johnsonville', 'organic': False}, 'B7': {'name': 'Pickles', 'price': '$3.49', 'local': False, 'brand': 'Claussen', 'organic': False}, 'B8': {'name': 'Pork Loin Back Ribs', 'price': '$5.99 lb.', 'local': False, 'brand': '100% Natural', 'organic': False}, 'B9': {'name': 'Boneless Pork Loin Roast or Chops', 'price': '$4.99 lb.', 'local': False, 'brand': '100% Natural', 'organic': False}, 'B10': {'name': 'Lamb Shank', 'price': '$6.99 lb.', 'local': False, 'brand': 'Naturally Raised', 'organic': False}, 'B11': {'name': 'Gourmet Patties', 'price': '$5.99 lb.', 'local': False, 'brand': 'Made-In House', 'organic': False}, 'B12': {'name': 'Beef for Stir Fry', 'price': '$8.99 lb.', 'local': True, 'brand': 'Naturally Raised', 'organic': False}, 'B13': {'name': 'Steelhead Fillets', 'price': '$12.99 lb.', 'local': False, 'brand': 'Fresh', 'organic': False}, 'B14': {'name': 'Yellowfin Tuna', 'price': '$23.99 lb.', 'local': False, 'brand': 'Fresh, Wild Caught', 'organic': False}, 'B15': {'name': 'Juice', 'price': '$3.79', 'local': False, 'brand': \"Florida's Natural\", 'organic': False}, 'B16': {'name': 'Ice Cream', 'price': '$5.99', 'local': True, 'brand': 'Acme', 'organic': False}, 'B17': {'name': 'Activa Yogurt', 'price': '$2.79', 'local': False, 'brand': 'Dannon', 'organic': False}, 'B18': {'name': 'Cottage Cheese', 'price': '$2.79', 'local': True, 'brand': 'Dairgold', 'organic': False}, 'B19': {'name': 'Whipped Cream', 'price': '$2.99', 'local': False, 'brand': 'Reddi Wip', 'organic': False}, 'B20': {'name': 'Organic Yogurt', 'price': '$3.99', 'local': True, 'brand': \"Nancy's\", 'organic': True}, 'B21': {'name': 'Cheese', 'price': '$2.99', 'local': False, 'brand': 'Frigo', 'organic': False}, 'B22': {'name': 'Cheese', 'price': '$4.99', 'local': True, 'brand': 'Tillamook', 'organic': False}, 'B23': {'name': 'Sauerkraut, Kimchi & Pickled Carrots', 'price': '$6.99', 'local': True, 'brand': 'Firefly Kitchens', 'organic': False}, 'B24': {'name': 'Liquid Eggs', 'price': '$3.29', 'local': False, 'brand': 'Eggbeaters', 'organic': False}, 'B25': {'name': 'Gelatin or Pudding', 'price': '$2.49', 'local': False, 'brand': 'Jell-O', 'organic': False}, 'B26': {'name': 'Coconut Bliss Bars', 'price': '$4.99', 'local': True, 'brand': \"Luna & Larry's\", 'organic': False}, 'B27': {'name': 'Tillabars', 'price': '$3.99', 'local': True, 'brand': 'Tillamook', 'organic': False}, 'B28': {'name': 'Ice Cream', 'price': '$5.49', 'local': False, 'brand': 'Breyers', 'organic': False}, 'B29': {'name': 'Meat Alternatives', 'price': '$3.49', 'local': False, 'brand': 'Boca', 'organic': False}, 'B30': {'name': 'Sticky White Rice', 'price': '$2.99', 'local': False, 'brand': 'Innovasian', 'organic': False}, 'B31': {'name': 'Sausage & Egg Sandwiches', 'price': '$5.49', 'local': False, 'brand': 'Jimmy Dean', 'organic': False}, 'B32': {'name': 'Frozen Entrees', 'price': '$3.99', 'local': False, 'brand': 'Grainful', 'organic': False}, 'B33': {'name': 'Burrito or Sandwich', 'price': '$1.99', 'local': False, 'brand': 'Evol', 'organic': False}, 'B34': {'name': 'Unsalted Soft Pretzels', 'price': '$2.99', 'local': False, 'brand': 'SuperPretzel', 'organic': False}, 'C1': {'name': 'Reuseable Container Set', 'price': '$14.39', 'local': False, 'brand': 'Sistema', 'organic': False}, 'C2': {'name': 'Bowl or Plate Sets', 'price': '$15.99', 'local': False, 'brand': 'BIA Cordon Bleu', 'organic': False}, 'C3': {'name': 'Roasting Pan Set', 'price': '$31.99', 'local': False, 'brand': 'Duralex', 'organic': False}, 'C4': {'name': 'Lima Pan with Lid', 'price': '$31.99', 'local': False, 'brand': 'Greenpan', 'organic': False}, 'C5': {'name': 'Jar Candles', 'price': '$18.39', 'local': True, 'brand': 'Good Well Supply', 'organic': False}, 'C6': {'name': 'Frypan', 'price': '$55.99', 'local': False, 'brand': 'Woll', 'organic': False}, 'C7': {'name': 'Pizza Stone', 'price': '$15.99', 'local': False, 'brand': 'Typhoon', 'organic': False}, 'C8': {'name': 'Chowder or Bisque', 'price': '$2.99', 'local': False, 'brand': 'Bar Harbor', 'organic': False}, 'C9': {'name': 'Oyster Crackers', 'price': '$2.99', 'local': False, 'brand': 'Nabisco', 'organic': False}, 'C10': {'name': 'Gourmet Croutons', 'price': '$2.49', 'local': False, 'brand': \"Cardini's\", 'organic': False}, 'C11': {'name': 'Artichokes', 'price': '$3.79', 'local': False, 'brand': 'Napoleon', 'organic': False}, 'C12': {'name': 'Salad Dressing', 'price': '$2.99', 'local': False, 'brand': 'Kraft', 'organic': False}, 'C13': {'name': 'Red Hot Sauce', 'price': '$2.99', 'local': False, 'brand': \"Frank's\", 'organic': False}, 'C14': {'name': 'Coconut Milk, Fish Sauce or Curry Paste', 'price': '25% OFF', 'local': False, 'brand': 'Thai Kitchen', 'organic': False}, 'C15': {'name': 'Foods Soup', 'price': '$2.99', 'local': True, 'brand': 'Pacific', 'organic': False}, 'C16': {'name': 'Olive Oil', 'price': '$11.99', 'local': False, 'brand': 'Napa Valley Naturals', 'organic': False}, 'C17': {'name': 'Capers', 'price': '$2.49', 'local': False, 'brand': 'Napoleon', 'organic': False}, 'C18': {'name': 'Salmon Bites', 'price': '$7.99', 'local': False, 'brand': 'Dear North', 'organic': False}, 'C19': {'name': 'Albacore Tuna', 'price': '$3.79', 'local': False, 'brand': 'Wild Planet', 'organic': False}, 'C20': {'name': 'Organic Quinoa or Rice', 'price': '20% OFF', 'local': False, 'brand': 'Natural Directions', 'organic': True}, 'C21': {'name': 'Organic Pasta', 'price': '$1.79', 'local': False, 'brand': 'Natural Directions', 'organic': True}, 'C22': {'name': 'Pasta Sauce', 'price': '$3.99', 'local': False, 'brand': 'Mezzetta', 'organic': False}, 'C23': {'name': 'Tea', 'price': '$3.49', 'local': False, 'brand': 'Tazo', 'organic': False}, 'C24': {'name': 'Organic Dried Fruit', 'price': '$4.49', 'local': False, 'brand': 'Made In Nature', 'organic': True}, 'C25': {'name': 'Organic Cookies', 'price': '$3.99', 'local': False, 'brand': \"Newman's Own\", 'organic': True}, 'C26': {'name': 'Creamy Almond Butter', 'price': '$7.49', 'local': False, 'brand': 'Natural Directions', 'organic': False}, 'C27': {'name': 'Organic Tahini', 'price': '$5.99', 'local': False, 'brand': 'Natural Directions', 'organic': True}, 'C28': {'name': 'Organic Maple Syrup', 'price': '$9.99', 'local': False, 'brand': 'Natural Directions', 'organic': True}, 'C29': {'name': 'Steel Cut Irish Oatmeal', 'price': '$6.49', 'local': False, 'brand': \"McCann's\", 'organic': False}, 'C30': {'name': 'Salsa or Dip', 'price': '$3.99', 'local': False, 'brand': 'Desert Pepper', 'organic': False}, 'C31': {'name': 'Organic Microwave Popcorn', 'price': '$1.99', 'local': False, 'brand': 'Natural Directions', 'organic': True}, 'C32': {'name': 'Almondmilk', 'price': '$1.89', 'local': False, 'brand': 'Blue Diamond', 'organic': False}, 'C33': {'name': 'Organic Flour', 'price': '$4.99', 'local': False, 'brand': 'Natural Directions', 'organic': True}, 'C34': {'name': 'Organic Coffee', 'price': '$6.99', 'local': False, 'brand': 'Natural Directions', 'organic': True}, 'C35': {'name': 'Natural Cheese Puffs', 'price': '$2.29', 'local': False, 'brand': \"Barbara's\", 'organic': False}, 'C36': {'name': 'Doritos or Natural Snacks', 'price': '$2.99', 'local': False, 'brand': 'Frito Lay', 'organic': False}, 'C37': {'name': 'Pita or Bagel Chips', 'price': '$2.49', 'local': False, 'brand': \"Stacy's\", 'organic': False}, 'C38': {'name': 'Hydration Water', 'price': '$1.29', 'local': False, 'brand': 'Core', 'organic': False}, 'C39': {'name': 'Pure Coconut Water', 'price': '$1.79', 'local': False, 'brand': 'C2O', 'organic': False}, 'C40': {'name': 'Sparkling Ice', 'price': '$.99', 'local': True, 'brand': 'Talking Rain', 'organic': False}, 'C41': {'name': 'Fridge Packs', 'price': '$4.99', 'local': False, 'brand': '7UP, A&W, Sunkist, Squirt, Canada Dry', 'organic': False}, 'C42': {'name': 'Zero Calorie Soda', 'price': '$4.99', 'local': False, 'brand': 'Zevia', 'organic': False}, 'C43': {'name': 'French Alpine Water', 'price': '$2.29', 'local': False, 'brand': 'Evian', 'organic': False}, 'C44': {'name': 'Whey Protein', 'price': '20% OFF', 'local': False, 'brand': 'Biochem', 'organic': False}, 'C45': {'name': 'Pure Moringa Vegetable Powder', 'price': '$17.99', 'local': False, 'brand': 'Kuli Kuli', 'organic': False}, 'C46': {'name': 'Blender Bottle', 'price': '$7.49', 'local': False, 'brand': 'Metropolitan Market', 'organic': False}, 'C47': {'name': 'Trash Bags', 'price': '$9.99', 'local': False, 'brand': 'Glad', 'organic': False}, 'C48': {'name': 'Paper Towels', 'price': '$3.99', 'local': False, 'brand': 'Natural Directions', 'organic': False}, 'C49': {'name': 'Paper Towels', 'price': '$2.99', 'local': False, 'brand': 'Natural Directions', 'organic': False}, 'C50': {'name': 'Invisible Solid Deodorant', 'price': '$3.99', 'local': False, 'brand': 'Dove', 'organic': False}, 'C51': {'name': 'NyQuil or DayQuil', 'price': '$7.49', 'local': False, 'brand': 'Vicks', 'organic': False}, 'C52': {'name': 'Toothpaste or Gel', 'price': '$2.49', 'local': False, 'brand': 'Crest', 'organic': False}, 'C53': {'name': 'Body Soap', 'price': '$3.49', 'local': False, 'brand': 'Alaffia', 'organic': False}, 'C54': {'name': 'Flavor Snacks', 'price': '$4.29', 'local': False, 'brand': 'Milk-Bone', 'organic': False}, 'C55': {'name': 'Bath Tissue', 'price': '$7.99', 'local': False, 'brand': 'Charmin', 'organic': False}, 'C56': {'name': 'ECOS Liquid Laundry Detergent', 'price': '$9.99', 'local': True, 'brand': 'Earth Friendly', 'organic': False}, 'C57': {'name': 'Diapers or Training Pants', 'price': '$11.99', 'local': False, 'brand': 'Seventh Generation', 'organic': False}, 'C58': {'name': 'Hand Soap', 'price': '$3.99', 'local': False, 'brand': \"Mrs Meyer's\", 'organic': False}, 'C59': {'name': 'Ultra Dish Liquid', 'price': '$2.99', 'local': False, 'brand': 'Joy', 'organic': False}, 'C60': {'name': 'Cat Litter', 'price': '$8.99', 'local': False, 'brand': \"World's Best\", 'organic': False}, 'C61': {'name': 'Drain Cleaner', 'price': '$4.79', 'local': False, 'brand': 'Drano', 'organic': False}, 'D1': {'name': 'Bartlett Pears', 'price': '$2.49 lb.', 'local': True, 'brand': 'Ripe and Ready', 'organic': False}, 'D2': {'name': 'Sliced Mushrooms', 'price': '2/$5', 'local': True, 'brand': \"Ostrom's\", 'organic': False}, 'D3': {'name': 'Sunbursts Tomatoes', 'price': '2/$7', 'local': False, 'brand': 'NatureSweet', 'organic': False}, 'D4': {'name': 'Watermelon Chunks', 'price': '$2.99 lb.', 'local': False, 'brand': 'Cut Fresh Daily', 'organic': False}, 'D5': {'name': 'Russet Potatoes', 'price': '$.69 lb.', 'local': True, 'brand': '', 'organic': False}, 'D6': {'name': 'Red Onions', 'price': '$1.49 lb.', 'local': True, 'brand': 'ORGANIC', 'organic': True}, 'D7': {'name': 'Green, Red or Lacinato Kale', 'price': '2/$4', 'local': True, 'brand': 'ORGANIC', 'organic': True}, 'D8': {'name': 'Butternut Squash', 'price': '$1.49 lb.', 'local': True, 'brand': 'ORGANIC', 'organic': True}, 'D9': {'name': 'Pompoms', 'price': '3/$12', 'local': False, 'brand': '', 'organic': False}, 'D10': {'name': 'Pepper Plant', 'price': '3/$12', 'local': False, 'brand': 'Ornamental', 'organic': False}, 'D11': {'name': 'Italian Eggplant Smoked Mozzarella Sandwich', 'price': '$6.99', 'local': False, 'brand': '', 'organic': False}, 'D12': {'name': 'Midnight Moon', 'price': '$24.99 lb.', 'local': False, 'brand': 'Cypress Grove', 'organic': False}, 'D13': {'name': 'Triple Ginger Cookies', 'price': '$6.99', 'local': False, 'brand': 'Metropolitan Market', 'organic': False}, 'D14': {'name': 'Pumpkin Whoopie Pie', 'price': '$2.79', 'local': False, 'brand': 'Our Own', 'organic': False}, 'D15': {'name': 'Sage & Fontina Grilled Cheese', 'price': '$6.99', 'local': False, 'brand': 'Our Own', 'organic': False}, 'D16': {'name': 'Taleggio DOP', 'price': '$9.99', 'local': False, 'brand': 'Ambriola', 'organic': False}, 'D17': {'name': 'Prosciutto & Fig Sandwich', 'price': '$6.99', 'local': False, 'brand': 'Our Own', 'organic': False}, 'D18': {'name': 'Black Label Cambozola', 'price': '$19.99 lb.', 'local': False, 'brand': 'Champignon', 'organic': False}, 'D19': {'name': 'Organic Pain Du George', 'price': '$4.99', 'local': True, 'brand': 'The Essential Baking Company', 'organic': True}, 'D20': {'name': 'Organic Bread', 'price': '$3.99', 'local': True, 'brand': 'Franz', 'organic': True}, 'D21': {'name': 'Granny Smith Apple Pie', 'price': '$15.99', 'local': True, 'brand': 'Whidbey Pies Cafe', 'organic': False}, 'D22': {'name': 'Muffins or Bagels', 'price': '$2.49', 'local': False, 'brand': 'Thomas', 'organic': False}, 'D23': {'name': 'Cabernet Sauvignon', 'price': '$16.99', 'local': True, 'brand': 'Isenhower', 'organic': False}, 'D24': {'name': 'Marchesi Del Salento', 'price': '$7.99', 'local': False, 'brand': '', 'organic': False}, 'D25': {'name': \"Cremant D'Alsace or Rose\", 'price': '$14.99', 'local': False, 'brand': 'Lucien Albrech', 'organic': False}, 'D26': {'name': 'Vin Soave', 'price': '$12.99', 'local': False, 'brand': 'Inama', 'organic': False}, 'D27': {'name': 'Pinot Gris', 'price': '$11.99', 'local': True, 'brand': 'Acrobat', 'organic': False}, 'D28': {'name': 'Sauvignon Blanc', 'price': '$9.99', 'local': False, 'brand': 'Patient Cottat', 'organic': False}, 'D29': {'name': 'Pinot Noir', 'price': '$17.99', 'local': True, 'brand': 'Savoureux', 'organic': False}, 'D30': {'name': 'Macon Villages Chameroy', 'price': '$17.99', 'local': False, 'brand': 'Louis Latour', 'organic': False}, 'D31': {'name': 'Whiskey', 'price': '$36.99', 'local': True, 'brand': 'Woodinville Whiskey Co', 'organic': False}, 'D32': {'name': 'Vodka or Gin', 'price': '$21.99', 'local': True, 'brand': 'Crater Lake', 'organic': False}, 'D33': {'name': 'Black Raven Brewing Co', 'price': '$9.99', 'local': True, 'brand': '', 'organic': False}, 'D34': {'name': 'Pike Brewery', 'price': '$7.49', 'local': True, 'brand': '', 'organic': False}, 'D35': {'name': 'Spiked & Sparkling', 'price': '$16.99', 'local': False, 'brand': 'Truly', 'organic': False}, 'D36': {'name': 'Full Sail', 'price': '$7.99', 'local': True, 'brand': '', 'organic': False}, 'E1': {'name': 'Spatulas', 'price': '2/$7', 'local': False, 'brand': 'Metropolitan Market', 'organic': False}, 'F1': {'name': 'Cotton Bar Towels', 'price': '$7.99*', 'local': False, 'brand': 'Metropolitan Market', 'organic': False}, 'F2': {'name': 'Fruit Fly Solution', 'price': '$7.99*', 'local': False, 'brand': 'Bye Bye', 'organic': False}, 'F3': {'name': 'Odor Removing Gel', 'price': '$15.99*', 'local': False, 'brand': 'Fresh Wave', 'organic': False}, 'F4': {'name': 'Coffee Maker', 'price': '$35.19*', 'local': False, 'brand': 'Chemex', 'organic': False}, 'F5': {'name': 'Moscow Mule Mug', 'price': '$15.99*', 'local': False, 'brand': '', 'organic': False}, 'F6': {'name': 'Krona Pot', 'price': '$23.99*', 'local': False, 'brand': 'Norpro', 'organic': False}}\n"
     ]
    }
   ],
   "source": [
    "print(ws)"
   ]
  },
  {
   "cell_type": "code",
   "execution_count": 23,
   "metadata": {},
   "outputs": [
    {
     "name": "stdout",
     "output_type": "stream",
     "text": [
      "156\n"
     ]
    }
   ],
   "source": [
    "print(len(ws))"
   ]
  },
  {
   "cell_type": "code",
   "execution_count": 25,
   "metadata": {},
   "outputs": [
    {
     "name": "stdout",
     "output_type": "stream",
     "text": [
      "Prices Valid Wed, September 20th — Tue, October 3rd.\n"
     ]
    }
   ],
   "source": [
    "dates = specials.find(\"div\", {\"class\": \"specials_dates\"})\n",
    "print(dates.text.strip())"
   ]
  },
  {
   "cell_type": "code",
   "execution_count": null,
   "metadata": {
    "collapsed": true
   },
   "outputs": [],
   "source": []
  }
 ],
 "metadata": {
  "kernelspec": {
   "display_name": "Python 3",
   "language": "python",
   "name": "python3"
  },
  "language_info": {
   "codemirror_mode": {
    "name": "ipython",
    "version": 3
   },
   "file_extension": ".py",
   "mimetype": "text/x-python",
   "name": "python",
   "nbconvert_exporter": "python",
   "pygments_lexer": "ipython3",
   "version": "3.6.2"
  }
 },
 "nbformat": 4,
 "nbformat_minor": 2
}
