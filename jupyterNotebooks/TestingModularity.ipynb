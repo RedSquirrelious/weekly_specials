{
 "cells": [
  {
   "cell_type": "code",
   "execution_count": 5,
   "metadata": {},
   "outputs": [],
   "source": [
    "from bs4 import BeautifulSoup\n",
    "import os\n",
    "import pickle\n",
    "from selenium import webdriver\n",
    "from context import data\n",
    "from context import constants"
   ]
  },
  {
   "cell_type": "code",
   "execution_count": 3,
   "metadata": {},
   "outputs": [
    {
     "ename": "NameError",
     "evalue": "name 'data' is not defined",
     "output_type": "error",
     "traceback": [
      "\u001b[0;31m---------------------------------------------------------------------------\u001b[0m",
      "\u001b[0;31mNameError\u001b[0m                                 Traceback (most recent call last)",
      "\u001b[0;32m<ipython-input-3-bca339542f1a>\u001b[0m in \u001b[0;36m<module>\u001b[0;34m()\u001b[0m\n\u001b[0;32m----> 1\u001b[0;31m \u001b[0murl\u001b[0m \u001b[0;34m=\u001b[0m \u001b[0mdata\u001b[0m\u001b[0;34m.\u001b[0m\u001b[0mresolve_url\u001b[0m\u001b[0;34m(\u001b[0m\u001b[0mconstants\u001b[0m\u001b[0;34m.\u001b[0m\u001b[0mCM_DOMAIN_URL\u001b[0m\u001b[0;34m,\u001b[0m \u001b[0mconstants\u001b[0m\u001b[0;34m.\u001b[0m\u001b[0mTC_CM_BIWEEKLY_URL\u001b[0m\u001b[0;34m)\u001b[0m\u001b[0;34m\u001b[0m\u001b[0m\n\u001b[0m",
      "\u001b[0;31mNameError\u001b[0m: name 'data' is not defined"
     ]
    }
   ],
   "source": [
    "url = data.resolve_url(constants.CM_DOMAIN_URL, constants.TC_CM_BIWEEKLY_URL)"
   ]
  },
  {
   "cell_type": "code",
   "execution_count": 3,
   "metadata": {
    "collapsed": true
   },
   "outputs": [],
   "source": [
    "path = data.resolve_file_path(constants.CM_COOKIES)"
   ]
  },
  {
   "cell_type": "code",
   "execution_count": 4,
   "metadata": {
    "collapsed": true
   },
   "outputs": [],
   "source": [
    "browser = data.make_browser(constants.DRIVER)"
   ]
  },
  {
   "cell_type": "code",
   "execution_count": 6,
   "metadata": {},
   "outputs": [],
   "source": [
    "test = os.path.join(os.path.dirname(os.getcwd()), constants.COOKIES_FOLDER, constants.CM_COOKIES)"
   ]
  },
  {
   "cell_type": "code",
   "execution_count": 7,
   "metadata": {},
   "outputs": [
    {
     "name": "stdout",
     "output_type": "stream",
     "text": [
      "/Users/SK/PycharmProjects/weekly_specials/cookies/CentralMarket.pkl\n"
     ]
    }
   ],
   "source": [
    "print(test)"
   ]
  },
  {
   "cell_type": "code",
   "execution_count": 5,
   "metadata": {
    "collapsed": true
   },
   "outputs": [],
   "source": [
    "data.store_initial_cookies(browser, url, path)"
   ]
  },
  {
   "cell_type": "code",
   "execution_count": 6,
   "metadata": {
    "collapsed": true
   },
   "outputs": [],
   "source": [
    "cookies = data.retrieve_cookies(path)"
   ]
  },
  {
   "cell_type": "code",
   "execution_count": 7,
   "metadata": {
    "collapsed": true
   },
   "outputs": [],
   "source": [
    "data.add_cookies(browser, cookies)"
   ]
  },
  {
   "cell_type": "code",
   "execution_count": 8,
   "metadata": {
    "collapsed": true
   },
   "outputs": [],
   "source": [
    "html = data.get_site_html(browser, url)"
   ]
  },
  {
   "cell_type": "code",
   "execution_count": 9,
   "metadata": {
    "collapsed": true
   },
   "outputs": [],
   "source": [
    "bso = data.make_soup(html, constants.SOUP_FORMAT)"
   ]
  },
  {
   "cell_type": "code",
   "execution_count": 10,
   "metadata": {
    "collapsed": true
   },
   "outputs": [],
   "source": [
    "specials = data.get_tc_specials(bso)"
   ]
  },
  {
   "cell_type": "code",
   "execution_count": 11,
   "metadata": {
    "collapsed": true
   },
   "outputs": [],
   "source": [
    "items = data.get_tc_items(specials)"
   ]
  },
  {
   "cell_type": "code",
   "execution_count": 12,
   "metadata": {
    "collapsed": true
   },
   "outputs": [],
   "source": [
    "ws = {}"
   ]
  },
  {
   "cell_type": "code",
   "execution_count": 14,
   "metadata": {
    "collapsed": true
   },
   "outputs": [],
   "source": [
    "data.parse_tc_specials(ws,items)"
   ]
  },
  {
   "cell_type": "code",
   "execution_count": 15,
   "metadata": {},
   "outputs": [
    {
     "name": "stdout",
     "output_type": "stream",
     "text": [
      "{'37410': {'name': 'Alexia All Natural Potatoes or Onion Rings', 'description': 'Selected Varieties, 11-32 oz.', 'price': '2/$6', 'local': None, 'organic': False}, '37411': {'name': 'Natural Directions Organic 100% Unfiltered Apple Juice', 'description': '128 oz. Jug', 'price': '$9.99', 'local': None, 'organic': True}, '37412': {'name': \"McCann's, Think Thin or Bob's Red Mill Hot Oatmeal\", 'description': 'Selected Varieties, 1.21-2.36 oz. Cup', 'price': '2/$3', 'local': None, 'organic': False}, '37413': {'name': 'Organic Valley Milk', 'description': 'Selected Varieties, 128 oz.', 'price': '$5.99', 'local': None, 'organic': True}, '37414': {'name': \"Rustichella D'Abruzzo Pasta\", 'description': 'Selected Varieties, 8.5-17.6 oz.', 'price': '$4.99', 'local': None, 'organic': False}, '37415': {'name': 'Stanislaus Pasta Sauce', 'description': 'Selected Varieties, 31 oz.', 'price': '$5.99', 'local': None, 'organic': False}, '37416': {'name': \"Tony's Organic Coffee\", 'description': 'Selected Varieties, Whole Bean 12 oz. or 10 Count K-Cups', 'price': '$6.99', 'local': None, 'organic': True}, '37417': {'name': 'Kodiak Cakes Power Cakes Flapjack And Waffle Mix', 'description': 'Selected Varieties, 18-20 oz.', 'price': '$4.99', 'local': None, 'organic': False}, '37418': {'name': 'Natural Directions Organic Grade A Maple Syrup', 'description': '12 oz.', 'price': '$7.99', 'local': None, 'organic': True}, '37419': {'name': 'Peak Sherpa Organic Barley Cereal', 'description': 'Selected Varieties, 8-10 oz.', 'price': '$4.99', 'local': None, 'organic': True}, '37420': {'name': 'Bigelow Tea', 'description': 'Selected Varieties, 18-20 Count', 'price': '2/$5', 'local': None, 'organic': False}, '37421': {'name': 'Santa Cruz Organic Apple Sauce', 'description': 'Selected Varieties, 6/4 oz. Cups', 'price': '$3.49', 'local': None, 'organic': True}, '37422': {'name': 'King Arthur Flour Gluten Free Baking Mixes', 'description': 'Selected Varieties, 16-22 oz.', 'price': '$4.99', 'local': None, 'organic': False}, '37423': {'name': 'Natural Directions Organic Instant Oatmeal', 'description': 'Selected Varieties, 8 Count', 'price': '2/$6', 'local': None, 'organic': True}, '37424': {'name': 'MaraNatha All Natural Almond Butter', 'description': 'Creamy or Crunchy, 12 oz.', 'price': '$6.99', 'local': None, 'organic': False}, '37425': {'name': 'Post Honey Bunches of Oats Cereal', 'description': 'Honey Roasted or With Almonds, 14.5 oz', 'price': '2/$7', 'local': None, 'organic': False}, '37426': {'name': 'Kind Healthy Grains Clusters', 'description': 'Selected Varieties, 11 oz.', 'price': '$3.99', 'local': None, 'organic': False}, '37427': {'name': 'Kraft Jet-Puffed Marshmallows', 'description': 'Selected Varieties, 16 oz.', 'price': '2/$4', 'local': None, 'organic': False}, '37428': {'name': \"McCann's, Think Thin or Bob's Red Mill Hot Oatmeal\", 'description': 'Selected Varieties, 1.41-2.36 oz. Cup', 'price': '2/$3', 'local': None, 'organic': False}, '37429': {'name': \"Justin's All Natural Peanut Butter\", 'description': 'Selected Varieties, 16 oz.', 'price': '$3.99', 'local': None, 'organic': False}, '37430': {'name': 'Progresso Bread Crumbs', 'description': 'Selected Varieties, 15 oz.', 'price': '2/$4', 'local': None, 'organic': False}, '37431': {'name': 'Red Star Yeast', 'description': 'Selected Varieties, 4 oz. Jar', 'price': '$4.99', 'local': None, 'organic': False}, '37432': {'name': 'Nestlé Toll House Morsels', 'description': 'Selected Varieties, 10-12 oz.', 'price': '2/$6', 'local': None, 'organic': False}, '37433': {'name': 'C&H Pure Cane Granulated Sugar', 'description': '4 lb.', 'price': '2/$5', 'local': None, 'organic': False}, '37434': {'name': 'HappyBaby or HappyTot Organic Baby Food', 'description': 'Selected Varieties, 3.5-4.22 oz.', 'price': '4/$5', 'local': None, 'organic': True}, '37435': {'name': 'Napoleon Olives', 'description': 'Selected Varieties, 6-7 oz.', 'price': '2/$4', 'local': None, 'organic': False}, '37436': {'name': 'Slawsa Gourmet Topping', 'description': 'Selected Varieties, 16 oz.', 'price': '$2.99', 'local': None, 'organic': False}, '37437': {'name': \"Nonna Pia's Balsamic Reduction\", 'description': 'Selected Varieties, 8.45 oz.', 'price': '$5.99', 'local': None, 'organic': False}, '37438': {'name': 'Bar Harbor Clam Juice', 'description': 'Selected Varieties, 8 oz.', 'price': '2/$4', 'local': None, 'organic': False}, '37439': {'name': \"Kozlik's Canadian Mustard\", 'description': 'Selected Varieties, 250 ml.', 'price': '$3.99', 'local': None, 'organic': False}, '37440': {'name': 'Delverde Pasta', 'description': 'Selected Varieties, 8.8-16 oz.', 'price': '2/$4', 'local': None, 'organic': False}, '37441': {'name': 'Mezzetta Homemade Pasta Sauce', 'description': 'Selected Varieties, 25 oz.', 'price': '$3.99', 'local': None, 'organic': False}, '37442': {'name': 'Bar Harbor New England Style Chowder or Bisque', 'description': 'Selected Varieties, 10.5-15 oz.', 'price': '2/$6', 'local': None, 'organic': False}, '37443': {'name': \"Bush's Best Beans\", 'description': 'Selected Varieties, 15-16 oz.', 'price': '10/$10', 'local': None, 'organic': False}, '37444': {'name': 'Natural Directions Organic Apple Cider Vinegar', 'description': '32 oz.', 'price': '$3.99', 'local': None, 'organic': True}, '37445': {'name': \"Rustichella D'Abruzzo Pasta\", 'description': 'Selected Varieties, 8.5-17.6 oz.', 'price': '$4.99', 'local': None, 'organic': False}, '37446': {'name': \"Nando's Peri-Peri Sauce\", 'description': 'Selected Varieties, 4.7 oz.; Peri-Peri Sauce, Selected Varieties, 9-9.1 oz. - 2/$7', 'price': '2/$5', 'local': None, 'organic': False}, '37447': {'name': 'Progresso Soup', 'description': 'Selected Varieties, 18.5-19 oz.', 'price': '2/$3', 'local': None, 'organic': False}, '37448': {'name': 'Natural Directions Organic Macaroni & Cheese', 'description': 'Selected Varieties, 6 oz.', 'price': '2/$3', 'local': None, 'organic': True}, '37449': {'name': 'Stanislaus Pasta Sauce', 'description': 'Selected Varieties, 31 oz.', 'price': '$5.99', 'local': None, 'organic': False}, '37450': {'name': 'No Yolks Enriched Egg White Pasta', 'description': 'Selected Varieties, 8 oz.', 'price': '2/$3', 'local': None, 'organic': False}, '37451': {'name': 'Frontera Sauce', 'description': 'Selected Varieties, 8 oz.', 'price': '2/$4', 'local': None, 'organic': False}, '37452': {'name': 'Natural Directions Chunk Light Tuna', 'description': 'Salted or No Salt, Packed In Water, 5 oz.', 'price': '2/$4', 'local': None, 'organic': False}, '37453': {'name': 'One Culture Foods Saute & Dip', 'description': 'Selected Varieties, 13 oz.', 'price': '$4.99', 'local': None, 'organic': False}, '37454': {'name': \"Bear's Breath Spicy Ketchup\", 'description': '12.4 oz.', 'price': '$5.99', 'local': None, 'organic': False}, '37455': {'name': \"Erin's Popcorn\", 'description': 'Selected Varieties, 4.25 oz.', 'price': '2/$4', 'local': None, 'organic': False}, '37456': {'name': 'Peeled Snacks Organic Peas Please Baked Pea Snack', 'description': 'Selected Varieties, 3.3 oz.', 'price': '2/$4', 'local': None, 'organic': True}, '37457': {'name': \"Tony's Chocolonely Bar\", 'description': 'Selected Varieties, 6 oz.', 'price': '2/$5', 'local': None, 'organic': False}, '37458': {'name': \"Carmen's Tortilla Chips\", 'description': 'Thin or Rounds, 14 oz.', 'price': '2/$4', 'local': None, 'organic': False}, '37459': {'name': \"Uncle Bud's Deep Fried Peanuts\", 'description': 'Selected Varieties, 7 oz.', 'price': '2/$5', 'local': None, 'organic': False}, '37460': {'name': \"Stacy's Bagel or Pita Chips\", 'description': 'Selected Varieties, 7.33-8 oz.', 'price': '2/$5', 'local': None, 'organic': False}, '37461': {'name': 'Simply 7 Lentil or Quinoa Chips', 'description': 'Selected Varieties, 3.5-5 oz.', 'price': '2/$5', 'local': None, 'organic': False}, '37462': {'name': 'G.H. Cretors Popped Corn', 'description': 'Selected Varieties, 4-8 oz.', 'price': '2/$6', 'local': None, 'organic': False}, '37463': {'name': 'Inka Roasted Giant Corn', 'description': 'Selected Varieties, 4 oz.', 'price': '4/$5', 'local': None, 'organic': False}, '37464': {'name': 'Sunshine Nut Co. Roasted Cashews', 'description': 'Selected Varieties, 7 oz.', 'price': '$4.99', 'local': None, 'organic': False}, '37465': {'name': 'EPIC Protein Bar', 'description': 'Selected Varieties, 1.3-1.5 oz.', 'price': '2/$4', 'local': None, 'organic': False}, '37466': {'name': 'GimMe Roasted Seaweed Snacks', 'description': 'Selected Varieties, .35 oz.', 'price': '2/$3', 'local': None, 'organic': False}, '37467': {'name': 'Krave Jerky', 'description': 'Selected Varieties, 2.7 oz.', 'price': '$5.99', 'local': None, 'organic': False}, '37468': {'name': 'Maya Kaimal Chickpea Chips', 'description': 'Selected Varieties, 4.5 oz.', 'price': '2/$5', 'local': None, 'organic': False}, '37469': {'name': \"Frito Lay Lay's Potato Chips\", 'description': 'Selected Varieties, 7.75-8 oz.', 'price': '2/$5', 'local': None, 'organic': False}, '37470': {'name': 'Clif Organic Nut Butter Filled Bar', 'description': 'Selected Varieties, 1.76 oz.', 'price': '2/$3', 'local': None, 'organic': True}, '37471': {'name': 'thinkThin Nutrition Bar', 'description': 'Selected Varieties, 1.41-2.1 oz.', 'price': '2/$3', 'local': None, 'organic': False}, '37472': {'name': 'Kind Bar Granola or Breakfast Bars', 'description': 'Selected Varieties, 4-5 Count', 'price': '$2.99', 'local': None, 'organic': False}, '37473': {'name': 'Pepperidge Farm Goldfish Crackers', 'description': 'Selected Varieties, 6.6 oz.', 'price': '3/$5', 'local': None, 'organic': False}, '37474': {'name': 'Frito Lay Doritos Tortilla Chips', 'description': 'Selected Varieties, 9.75 oz.', 'price': '2/$6', 'local': None, 'organic': False}, '37475': {'name': 'Recovery Water', 'description': 'Selected Varieties, 16.9 oz. Bottle', 'price': '2/$3', 'local': None, 'organic': False}, '37476': {'name': 'Evian Natural Spring Water', 'description': '1 Liter Bottle', 'price': '2/$3', 'local': None, 'organic': False}, '37477': {'name': 'Inkos Organic White Tea', 'description': 'Selected Varieties, 16 oz. Bottle', 'price': '2/$3', 'local': None, 'organic': True}, '37478': {'name': 'Millennium Kombucha or Enlight Organic & Raw Drinks', 'description': 'Selected Varieties, 16 oz. Bottle', 'price': '2/$5', 'local': None, 'organic': True}, '37479': {'name': \"Hubert's Lemonade\", 'description': 'Selected Varieties, 16 oz.', 'price': '3/$5', 'local': None, 'organic': False}, '37480': {'name': 'Chameleon Cold Brew Coffee', 'description': 'Selected Varieties, 10 oz.', 'price': '2/$6', 'local': None, 'organic': False}, '37481': {'name': 'Rebbl Super Herbs Organic Drinks', 'description': 'Selected Varieties, 12 oz.; Rebbl Protein Drinks, Selected Varieties, 12 oz. - 2.99', 'price': '$2.99', 'local': None, 'organic': True}, '37482': {'name': 'Zevia Zero Calorie Energy', 'description': 'Selected Varieties, 12 oz. Can', 'price': '4/$5', 'local': None, 'organic': False}, '37483': {'name': 'Gold Peak Tea', 'description': 'Selected Varieties, 18.5 oz. Bottle', 'price': '10/$10', 'local': None, 'organic': False}, '37484': {'name': \"Stewart's Fountain Classics Soda\", 'description': 'Selected Varieties, 4/12 oz. Bottles', 'price': '2/$6', 'local': None, 'organic': False}, '37485': {'name': 'Schweppes Drink Mixers', 'description': 'Selected Varieties, 1 Liter Bottle', 'price': '3/$5', 'local': None, 'organic': False}, '37486': {'name': 'Langers or Tree Top 100% Apple Juice', 'description': 'Selected Varieties, 64 oz. Bottle', 'price': '2/$6', 'local': None, 'organic': False}, '37487': {'name': 'Talking Rain Sparkling Ice', 'description': 'Selected Varieties, 17 oz. Bottle', 'price': '$.88', 'local': None, 'organic': False}, '37488': {'name': 'Pepsi Products', 'description': 'Selected Varieties, 12/12 oz. Cans', 'price': '2/$9', 'local': None, 'organic': False}, '37489': {'name': '7-Up Products', 'description': 'Selected Varieties, 12/12 oz. Cans', 'price': '2/$9', 'local': None, 'organic': False}, '37490': {'name': 'Natural Directions Organic 100% Unfiltered Apple Juice', 'description': '128 oz. Jug', 'price': '$9.99', 'local': None, 'organic': True}, '37491': {'name': 'Talking Rain Sparkling Water', 'description': 'Selected Varieties, 2 Liter Bottle', 'price': '$.99', 'local': None, 'organic': False}, '37492': {'name': 'Pepsi Products', 'description': 'Selected Varieties, 2 Liter Bottle', 'price': '2/$3', 'local': None, 'organic': False}, '37493': {'name': '7-Up Products', 'description': 'Selected Varieties, 2 Liter Bottle', 'price': '2/$3', 'local': None, 'organic': False}, '37494': {'name': \"Hansen's Natural Soda\", 'description': 'Selected Varieties, 6/12 oz. Cans', 'price': '2/$5', 'local': None, 'organic': False}, '37495': {'name': 'Anchor Brewing Co. Beer', 'description': 'Selected Varieties, 6/12 oz. Cans or Bottles; Porter or Blackberry Daze IPA, 6/12 oz. Cans- 9.99', 'price': '$8.49', 'local': None, 'organic': False}, '37496': {'name': 'Pelican Brewery Beer', 'description': 'Selected Varieties, 6/12 oz. Bottles', 'price': '$8.99', 'local': None, 'organic': False}, '37497': {'name': 'Bale Breaker Brewing Co. Beer', 'description': 'Selected Varieties, 6/12 oz. Cans; Imperial IPA, 6/12 oz. Cans- 10.99', 'price': '$8.99', 'local': None, 'organic': False}, '37498': {'name': 'Black Raven Brewing Co. Beer', 'description': 'Selected Varieties, 22 oz. Bottle; Seasonal Varieties, 22 oz. Bottle - 5.99', 'price': '$4.49', 'local': None, 'organic': False}, '37499': {'name': 'La Vieille Ferme Wine', 'description': 'Selected Varieties, 750 ml.', 'price': '$7.99', 'local': None, 'organic': False}, '37500': {'name': 'Le Charmel Wine', 'description': 'Selected Varieties, 750 ml.', 'price': '$8.99', 'local': None, 'organic': False}, '37501': {'name': 'Chateau Petit-Freylon Bourdeaux Wine', 'description': 'Selected Varieties, 750 ml.', 'price': '$8.99', 'local': None, 'organic': False}, '37502': {'name': 'Hedges C.M.S. Wine Red or White', 'description': '750 ml.', 'price': '$9.99', 'local': None, 'organic': False}, '37503': {'name': 'Franz Bread', 'description': 'Selected Varieties, 22-24 oz.', 'price': '$2.49', 'local': None, 'organic': False}, '37504': {'name': 'Franz Organic Thin Sliced Bread', 'description': 'Selected Varieties, 18-20 oz.', 'price': '$3.99', 'local': None, 'organic': True}, '37505': {'name': 'Seattle Sourdough Baking Co. Sourdough Rolls or Buns', 'description': 'Selected Varieties, 6 Count', 'price': '$3.99', 'local': None, 'organic': False}, '37506': {'name': 'Franz New York Bagel Boys Soft Bagels', 'description': 'Selected Varieties, 6 Count or Mini 12 Count', 'price': '$2.49', 'local': None, 'organic': False}, '37507': {'name': 'Oroweat Bread', 'description': 'Selected Varieties, 24 oz.', 'price': '$2.49', 'local': None, 'organic': False}, '37508': {'name': 'SunlMaid Raisin Bread', 'description': 'Cinnamon Swirl, 16 oz.', 'price': '$2.99', 'local': None, 'organic': False}, '37509': {'name': 'Francisco Outdoor or French Sweet Hard Rolls', 'description': '6 Count', 'price': '$2.49', 'local': None, 'organic': False}, '37510': {'name': \"Thomas' English Muffins or Bagels\", 'description': 'Selected Varieties, 6-10 Count', 'price': '$2.49', 'local': None, 'organic': False}, '37511': {'name': 'Dawn Liquid Dish Soap', 'description': 'Selected Varieties, 18-21.6 oz.', 'price': '2/$6', 'local': None, 'organic': False}, '37512': {'name': 'Purina Fancy Feast Cat Food', 'description': 'Selected Varieties, 3 oz.', 'price': '3/$2', 'local': None, 'organic': False}, '37513': {'name': 'Everyone Soap', 'description': 'Selected Vareities, 32 oz.', 'price': '$5.49', 'local': None, 'organic': False}, '37514': {'name': \"Mrs. Meyer's Clean Day Hand Soap\", 'description': 'Selected Varieties, 12.5 oz.', 'price': '2/$6', 'local': None, 'organic': False}, '37515': {'name': 'Cascadian Farm Organic Vegetables', 'description': 'Selected Varieties, 8-16 oz.', 'price': '2/$5', 'local': None, 'organic': True}, '37516': {'name': 'Natural Directions Organic Waffles', 'description': 'Selected Varieties, 6-8 Count', 'price': '2/$4', 'local': None, 'organic': True}, '37517': {'name': \"Annie's Mini Pizza Bagels\", 'description': \"Selected Varieties, 6.7 oz.; Annie's Pizza Poppers,  Selected Varieties, 5 oz. - 2.99\", 'price': '$3.99', 'local': None, 'organic': False}, '37518': {'name': \"Amy's Single Serve Cheese Pizza\", 'description': \"6.2 oz.; Amy's Dairy Free/Gluten Free Pizza, Selected Varieties, 6 oz. - 4.99\", 'price': '2/$7', 'local': None, 'organic': False}, '37519': {'name': \"Beecher's Entrees\", 'description': 'Selected Varieties, 18-20 oz.', 'price': '$7.99', 'local': None, 'organic': False}, '37520': {'name': 'Tillamook Ice Cream, Gelato or Custard', 'description': 'Selected Varieties, 15.5 oz.', 'price': '$3.99', 'local': None, 'organic': False}, '37521': {'name': 'Boulder Canyon Riced Veggies', 'description': 'Selected Varieties, 9-10 oz.', 'price': '2/$6', 'local': None, 'organic': False}, '37522': {'name': 'Alexia All Natural Potatoes or Onion Rings', 'description': 'Selected Varieties, 11-32 oz.', 'price': '2/$6', 'local': None, 'organic': False}, '37523': {'name': 'Tillamook Premium Ice Cream', 'description': 'Selected Varieties, 1.75 qt.', 'price': '$4.99', 'local': None, 'organic': False}, '37524': {'name': 'Full Tilt Ice Cream', 'description': 'Selected Varieties, 16 oz.', 'price': '2/$7', 'local': None, 'organic': False}, '37525': {'name': \"Dreyer's Ice Cream\", 'description': 'Selected Varieties, 48 oz.', 'price': '2/$6', 'local': None, 'organic': False}, '37526': {'name': \"Nestlé or Dreyer's Outshine Fruit Bars\", 'description': 'Selected Varieties, 6-12 Count', 'price': '2/$7', 'local': None, 'organic': False}, '37527': {'name': 'Tadah! Falafel Wrap', 'description': 'Selected Varieties, 7.5 oz.', 'price': '$2.99', 'local': None, 'organic': False}, '37528': {'name': \"Ruby Rocket's Veggie & Fruit Pops\", 'description': 'Selected Varieties, 10.5 oz.', 'price': '$3.99', 'local': None, 'organic': False}, '37529': {'name': 'Whidbey Island Home Made Ice Cream Bars', 'description': 'Selected Varieties, 3 Count', 'price': '$3.99', 'local': None, 'organic': False}, '37530': {'name': 'Freschetta Pizza', 'description': 'Selected Varieties, 20.28-30.88 oz.', 'price': '2/$10', 'local': None, 'organic': False}, '37531': {'name': 'Home Run Inn Pizza', 'description': 'Selected Varieties, 27-31 oz.', 'price': '$5.99', 'local': None, 'organic': False}, '37532': {'name': 'Red Baron Pizza', 'description': 'Selected Varieties, 18.9-22.95 oz.', 'price': '3/$11', 'local': None, 'organic': False}, '37533': {'name': \"Luna & Larry's Organic Coconut Bliss Non-Dairy Dessert\", 'description': 'Selected Varieties, Pint', 'price': '$4.99', 'local': None, 'organic': True}, '37534': {'name': 'Nestlé Drumstick, Ice Cream Bars or Sandwiches', 'description': 'Selected Varieties, 4-6 Count', 'price': '2/$7', 'local': None, 'organic': False}, '37572': {'name': 'Arla Foods Cream Cheese Spread', 'description': 'Selected Varieties, 7 oz.', 'price': '2/$4', 'local': None, 'organic': False}, '37571': {'name': 'Tillamook Deli Sliced Cheese', 'description': 'Selected Varieties, 7-8 oz. Shingle Pack', 'price': '2/$6', 'local': None, 'organic': False}, '37570': {'name': \"Nancy's Organic Kefir\", 'description': 'Selected Varieties, 32 oz.', 'price': '$3.99', 'local': None, 'organic': True}, '37569': {'name': \"Nancy's Yogurt\", 'description': 'Selected Varieties, 32 oz.', 'price': '2/$5', 'local': None, 'organic': False}, '37568': {'name': 'Organic Valley Cheese', 'description': 'Selected Varieties, 8 oz.', 'price': '$4.99', 'local': None, 'organic': True}, '37567': {'name': 'Good Culture Cottage Cheese', 'description': 'Selected Varieties, 5.3 oz.', 'price': '2/$3', 'local': None, 'organic': False}, '37566': {'name': 'Darigold Shredded Cheese', 'description': 'Selected Varieties, 8 oz.', 'price': '2/$5', 'local': None, 'organic': False}, '37565': {'name': 'Tillamook Yogurt', 'description': 'Selected Varieties, 6 oz.', 'price': '3/$2', 'local': None, 'organic': False}, '37564': {'name': 'Chef Shamy Gourmet All Natural Butter', 'description': 'Selected Varieties, 4.5-7.5 oz.', 'price': '2/$6', 'local': None, 'organic': False}, '37563': {'name': 'Organic Valley Milk', 'description': 'Selected Varieties, 128 oz.', 'price': '$5.99', 'local': None, 'organic': True}, '37562': {'name': 'Tillamook Sour Cream', 'description': 'Premium or Light, 16 oz.', 'price': '2/$4', 'local': None, 'organic': False}, '37561': {'name': 'Smári Organic Icelandic Yogurt', 'description': 'Selected Varieties, 5 oz.', 'price': '2/$3', 'local': None, 'organic': True}, '37560': {'name': 'Tillamook Farmstyle Greek Yogurt', 'description': 'Selected Varieties, 5.3 oz.', 'price': '10/$10', 'local': None, 'organic': False}, '37559': {'name': 'Organic Valley Omega 3 Milk', 'description': 'Selected Varieties, 64 oz.', 'price': '$4.29', 'local': None, 'organic': True}, '37558': {'name': 'Organic Valley Sour Cream', 'description': 'Selected Varieties, 16 oz.', 'price': '$3.49', 'local': None, 'organic': True}, '37557': {'name': 'Natural Directions Organic Chilled Orange Juice', 'description': '59 oz.', 'price': '$3.99', 'local': None, 'organic': True}, '37556': {'name': 'Organic Valley Butter', 'description': 'Selected Varieties, 1 lb.', 'price': '$4.99', 'local': None, 'organic': True}, '37555': {'name': 'Farmhouse Culture Kraut', 'description': 'Selected Varieties, 16-22 oz.', 'price': '$5.99', 'local': None, 'organic': False}, '37573': {'name': 'Simply Juice', 'description': 'Selected Varieties, 59 oz.', 'price': '$3.99', 'local': None, 'organic': False}}\n"
     ]
    }
   ],
   "source": [
    "print(ws)"
   ]
  },
  {
   "cell_type": "code",
   "execution_count": null,
   "metadata": {
    "collapsed": true
   },
   "outputs": [],
   "source": []
  },
  {
   "cell_type": "code",
   "execution_count": null,
   "metadata": {
    "collapsed": true
   },
   "outputs": [],
   "source": []
  }
 ],
 "metadata": {
  "kernelspec": {
   "display_name": "Python 3",
   "language": "python",
   "name": "python3"
  },
  "language_info": {
   "codemirror_mode": {
    "name": "ipython",
    "version": 3
   },
   "file_extension": ".py",
   "mimetype": "text/x-python",
   "name": "python",
   "nbconvert_exporter": "python",
   "pygments_lexer": "ipython3",
   "version": "3.6.2"
  }
 },
 "nbformat": 4,
 "nbformat_minor": 2
}
